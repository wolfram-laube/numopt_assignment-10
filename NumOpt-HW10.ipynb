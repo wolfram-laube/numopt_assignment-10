{
 "cells": [
  {
   "metadata": {},
   "cell_type": "markdown",
   "source": [
    "# Numerical Optimization 2024 - Homework 10 \n",
    "\n",
    "Deadline: Wednesday, June 19, 15:30.\n"
   ],
   "id": "6cbaf41b691d71b4"
  },
  {
   "metadata": {},
   "cell_type": "markdown",
   "source": "Problem 1. Exercise 13.9 from the book (solving a linear program).\n",
   "id": "41ebdb8ceba6a54f"
  },
  {
   "metadata": {},
   "cell_type": "markdown",
   "source": "Problem 2. Exercise 16.1 from the book (solving a quadratic program).\n",
   "id": "8ed2c90b82ebf282"
  },
  {
   "metadata": {},
   "cell_type": "markdown",
   "source": [
    "Problem 3. Exercise 16.2 from the book (shortest distance from a point to a hyperplane).\n",
    "\n"
   ],
   "id": "2c490bff337282d9"
  }
 ],
 "metadata": {
  "kernelspec": {
   "display_name": "Python 3",
   "language": "python",
   "name": "python3"
  },
  "language_info": {
   "codemirror_mode": {
    "name": "ipython",
    "version": 2
   },
   "file_extension": ".py",
   "mimetype": "text/x-python",
   "name": "python",
   "nbconvert_exporter": "python",
   "pygments_lexer": "ipython2",
   "version": "2.7.6"
  }
 },
 "nbformat": 4,
 "nbformat_minor": 5
}
