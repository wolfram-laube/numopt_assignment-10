{
 "cells": [
  {
   "metadata": {
    "ExecuteTime": {
     "end_time": "2024-08-22T12:44:45.506417Z",
     "start_time": "2024-08-22T12:43:53.150489Z"
    }
   },
   "cell_type": "code",
   "source": "!pip uninstall gedcompy",
   "id": "38d44d7a0a96a3b7",
   "outputs": [
    {
     "name": "stdout",
     "output_type": "stream",
     "text": [
      "Found existing installation: gedcompy 0.2.9\r\n",
      "Uninstalling gedcompy-0.2.9:\r\n",
      "  Would remove:\r\n",
      "    /usr/local/lib/python3.11/site-packages/gedcom/*\r\n",
      "    /usr/local/lib/python3.11/site-packages/gedcompy-0.2.9.dist-info/*\r\n",
      "  Would not remove (might be manually added):\r\n",
      "    /usr/local/lib/python3.11/site-packages/gedcom/element/__init__.py\r\n",
      "    /usr/local/lib/python3.11/site-packages/gedcom/element/element.py\r\n",
      "    /usr/local/lib/python3.11/site-packages/gedcom/element/family.py\r\n",
      "    /usr/local/lib/python3.11/site-packages/gedcom/element/file.py\r\n",
      "    /usr/local/lib/python3.11/site-packages/gedcom/element/individual.py\r\n",
      "    /usr/local/lib/python3.11/site-packages/gedcom/element/object.py\r\n",
      "    /usr/local/lib/python3.11/site-packages/gedcom/element/root.py\r\n",
      "    /usr/local/lib/python3.11/site-packages/gedcom/helpers.py\r\n",
      "    /usr/local/lib/python3.11/site-packages/gedcom/parser.py\r\n",
      "    /usr/local/lib/python3.11/site-packages/gedcom/tags.py\r\n",
      "Proceed (Y/n)? ^C\r\n",
      "\u001B[31mERROR: Operation cancelled by user\u001B[0m\u001B[31m\r\n",
      "\u001B[0m"
     ]
    }
   ],
   "execution_count": 11
  },
  {
   "metadata": {
    "ExecuteTime": {
     "end_time": "2024-08-22T12:44:46.942197Z",
     "start_time": "2024-08-22T12:44:45.509364Z"
    }
   },
   "cell_type": "code",
   "source": "!pip install python-gedcom\n",
   "id": "6497a039958741d5",
   "outputs": [
    {
     "name": "stdout",
     "output_type": "stream",
     "text": [
      "Requirement already satisfied: python-gedcom in /usr/local/lib/python3.11/site-packages (1.0.0)\r\n",
      "\r\n",
      "\u001B[1m[\u001B[0m\u001B[34;49mnotice\u001B[0m\u001B[1;39;49m]\u001B[0m\u001B[39;49m A new release of pip is available: \u001B[0m\u001B[31;49m24.1.2\u001B[0m\u001B[39;49m -> \u001B[0m\u001B[32;49m24.2\u001B[0m\r\n",
      "\u001B[1m[\u001B[0m\u001B[34;49mnotice\u001B[0m\u001B[1;39;49m]\u001B[0m\u001B[39;49m To update, run: \u001B[0m\u001B[32;49mpython3.11 -m pip install --upgrade pip\u001B[0m\r\n"
     ]
    }
   ],
   "execution_count": 12
  },
  {
   "cell_type": "code",
   "id": "initial_id",
   "metadata": {
    "collapsed": true,
    "ExecuteTime": {
     "end_time": "2024-08-22T12:49:41.999913Z",
     "start_time": "2024-08-22T12:49:41.961418Z"
    }
   },
   "source": [
    "import pandas as pd\n",
    "from gedcom.parser import Parser\n",
    "from gedcom.element.individual import IndividualElement\n",
    "\n",
    "# Function to parse GEDCOM file with non-strict mode\n",
    "def parse_gedcom(file_path):\n",
    "    # Initialize parser\n",
    "    parser = Parser()\n",
    "\n",
    "    # Parse the GEDCOM file with strict mode set to False\n",
    "    parser.parse_file(file_path, strict=False)\n",
    "\n",
    "    individuals = []\n",
    "\n",
    "    for element in parser.get_element_list():\n",
    "        if isinstance(element, IndividualElement):\n",
    "            individual = {\n",
    "                \"ID\": element.get_pointer(),\n",
    "                \"Name\": element.get_name(),\n",
    "                \"Birth\": element.get_birth_data()[0] if element.get_birth_data() else None,\n",
    "                \"Death\": element.get_death_data()[0] if element.get_death_data() else None,\n",
    "                \"Gender\": element.get_gender(),\n",
    "            }\n",
    "            individuals.append(individual)\n",
    "\n",
    "    # Convert the list of individuals to a DataFrame\n",
    "    individuals_df = pd.DataFrame(individuals)\n",
    "\n",
    "    return individuals_df\n",
    "\n",
    "# Usage\n",
    "file_path = 'SCHNEIDERBAUERJohann.ged'  # Replace with your file path\n",
    "individuals_df = parse_gedcom(file_path)\n",
    "\n",
    "# Display the dataframe\n",
    "print(\"Individuals:\")\n",
    "print(individuals_df.head())\n"
   ],
   "outputs": [
    {
     "name": "stdout",
     "output_type": "stream",
     "text": [
      "Individuals:\n",
      "         ID                         Name        Birth        Death Gender\n",
      "0  @I34303@     (Johann, SCHNEIDERBAUER)   7 Apr 1902                   M\n",
      "1  @I34309@        (Ernestine, HAUSMANN)   6 Apr 1891                   F\n",
      "2  @I34300@     (Johann, SCHNEIDERBAUER)   6 May 1874                   M\n",
      "3  @I34293@  (Sebastian, SCHNEIDERBAUER)  27 Dec 1832  16 Sep 1897      M\n",
      "4  @I34288@  (Sebastian, SCHNEIDERBAUER)  19 Jan 1808   3 Nov 1889      M\n"
     ]
    }
   ],
   "execution_count": 15
  },
  {
   "metadata": {},
   "cell_type": "code",
   "outputs": [],
   "execution_count": null,
   "source": "",
   "id": "de58ebd3c0f80d45"
  }
 ],
 "metadata": {
  "kernelspec": {
   "display_name": "Python 3",
   "language": "python",
   "name": "python3"
  },
  "language_info": {
   "codemirror_mode": {
    "name": "ipython",
    "version": 2
   },
   "file_extension": ".py",
   "mimetype": "text/x-python",
   "name": "python",
   "nbconvert_exporter": "python",
   "pygments_lexer": "ipython2",
   "version": "2.7.6"
  }
 },
 "nbformat": 4,
 "nbformat_minor": 5
}
